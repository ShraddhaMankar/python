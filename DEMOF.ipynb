{
 "cells": [
  {
   "cell_type": "code",
   "execution_count": 6,
   "metadata": {
    "colab": {
     "base_uri": "https://localhost:8080/"
    },
    "id": "CrohwOZjGtCQ",
    "outputId": "28dc9ecf-25e2-4d1a-a6e6-88c96620ec24"
   },
   "outputs": [
    {
     "name": "stdout",
     "output_type": "stream",
     "text": [
      "joya singh\n"
     ]
    }
   ],
   "source": [
    "a='joya'\n",
    "b='singh'\n",
    "c=a+\" \"+b\n",
    "print(c)\n"
   ]
  },
  {
   "cell_type": "markdown",
   "metadata": {
    "id": "lOE2hm5CGy6L"
   },
   "source": []
  },
  {
   "cell_type": "markdown",
   "metadata": {
    "id": "awoCEgiKHWV0"
   },
   "source": [
    "Data types\n",
    "Text Type: Str\n",
    "Numeric Type: int, float, complex\n",
    "Sequence type: list, tuple, range\n",
    "Mapping Type: dict\n",
    "Set Type: set,frozenset\n",
    "Boolean Type: bool\n",
    "Binary Types: bytes,bytearray,memoryview\n",
    "None Type: NoneType"
   ]
  },
  {
   "cell_type": "code",
   "execution_count": null,
   "metadata": {
    "id": "CSVQs3n8HNA3"
   },
   "outputs": [],
   "source": []
  },
  {
   "cell_type": "markdown",
   "metadata": {
    "id": "Wau8Ja5YHgBT"
   },
   "source": [
    "**List**\n",
    "\n",
    "List is used to store ,multiple item in a single item in a single variable\n",
    "\n",
    "List items are ordered,changeable and it allows duplicate values\n",
    "\n",
    "list is denoted by [].\n",
    "\n",
    "*Type*\n",
    "type is use for written for the which type of variable written there\n",
    "\n"
   ]
  },
  {
   "cell_type": "code",
   "execution_count": 3,
   "metadata": {
    "colab": {
     "base_uri": "https://localhost:8080/"
    },
    "id": "37WtUzrIH_3H",
    "outputId": "7adc99c9-d1b8-4423-9a8b-d9881f540d7c"
   },
   "outputs": [
    {
     "name": "stdout",
     "output_type": "stream",
     "text": [
      "['red', 'purple', 'yellow']\n"
     ]
    },
    {
     "data": {
      "text/plain": [
       "list"
      ]
     },
     "execution_count": 3,
     "metadata": {},
     "output_type": "execute_result"
    }
   ],
   "source": [
    "color = [\"red\",\"purple\",\"yellow\"]\n",
    "print(color)\n",
    "type(color)\n"
   ]
  },
  {
   "cell_type": "code",
   "execution_count": 7,
   "metadata": {
    "colab": {
     "base_uri": "https://localhost:8080/"
    },
    "id": "MZtlQUpRI5yq",
    "outputId": "12702ca6-664c-45eb-df2e-68a8ec5095dd"
   },
   "outputs": [
    {
     "name": "stdout",
     "output_type": "stream",
     "text": [
      "['apple', 'red', 1, 5.6, 7j, True]\n"
     ]
    },
    {
     "data": {
      "text/plain": [
       "list"
      ]
     },
     "execution_count": 7,
     "metadata": {},
     "output_type": "execute_result"
    }
   ],
   "source": [
    "item = [\"apple\",\"red\",1,5.6,7j,True]\n",
    "print(item)\n",
    "type(item)"
   ]
  },
  {
   "cell_type": "markdown",
   "metadata": {
    "id": "a0-D-8rZKq8l"
   },
   "source": [
    "**Index**\n",
    "Index is start from 0\n",
    "\n",
    "*Slicing*\n",
    "by using update the item\n",
    "\n",
    "inset():This fuction adding the value at the specific index\n"
   ]
  },
  {
   "cell_type": "code",
   "execution_count": 8,
   "metadata": {
    "colab": {
     "base_uri": "https://localhost:8080/"
    },
    "id": "wj4URNupK3WY",
    "outputId": "1afe305e-0640-487a-af2e-404c8c78bce9"
   },
   "outputs": [
    {
     "name": "stdout",
     "output_type": "stream",
     "text": [
      "shraddha\n"
     ]
    }
   ],
   "source": [
    "c = [\"shraddha\",\"pune\",90,True,88j]\n",
    "print(c[0])"
   ]
  },
  {
   "cell_type": "code",
   "execution_count": 10,
   "metadata": {
    "colab": {
     "base_uri": "https://localhost:8080/"
    },
    "id": "qgDtYbtvLRoc",
    "outputId": "24a4bdb4-a224-4086-c13c-c50016c93fd8"
   },
   "outputs": [
    {
     "name": "stdout",
     "output_type": "stream",
     "text": [
      "['shraddha', 'pune', 90, True, 88j]\n",
      "['shraddha', 'pune', 90, True]\n"
     ]
    }
   ],
   "source": [
    "print(c[0:])\n",
    "print(c[0:4])\n"
   ]
  },
  {
   "cell_type": "code",
   "execution_count": 14,
   "metadata": {
    "colab": {
     "base_uri": "https://localhost:8080/"
    },
    "id": "ofTyYCuiL-8G",
    "outputId": "3b3b414a-d75f-4b12-e18c-21ea4920cda0"
   },
   "outputs": [
    {
     "name": "stdout",
     "output_type": "stream",
     "text": [
      "['shraddha', 'satara', 90, True, 88j]\n"
     ]
    }
   ],
   "source": [
    "c = [\"shraddha\",\"pune\",90,True,88j]\n",
    "c[1]=\"satara\"\n",
    "print(c)"
   ]
  },
  {
   "cell_type": "code",
   "execution_count": 16,
   "metadata": {
    "colab": {
     "base_uri": "https://localhost:8080/"
    },
    "id": "W-kelLEhNBI4",
    "outputId": "e2e3dc42-0d34-4b36-ec06-864f04437f72"
   },
   "outputs": [
    {
     "name": "stdout",
     "output_type": "stream",
     "text": [
      "['shraddha', 'satara', 'jui', 90, True, 88j]\n"
     ]
    }
   ],
   "source": [
    "#insert fuction adds item on the specific index\n",
    "c.insert(2,'jui')\n",
    "print(c)"
   ]
  },
  {
   "cell_type": "code",
   "execution_count": 17,
   "metadata": {
    "colab": {
     "base_uri": "https://localhost:8080/"
    },
    "id": "DUL88L-cN1o9",
    "outputId": "e429b3dd-716b-4483-f544-82c23c731f50"
   },
   "outputs": [
    {
     "name": "stdout",
     "output_type": "stream",
     "text": [
      "['shraddha', 'satara', 'jui', 90, True, 88j, 4.555]\n"
     ]
    }
   ],
   "source": [
    "#append adds the items at the end\n",
    "c.append(4.555)\n",
    "print(c)"
   ]
  },
  {
   "cell_type": "code",
   "execution_count": 18,
   "metadata": {
    "colab": {
     "base_uri": "https://localhost:8080/"
    },
    "id": "9ThU9y4NOW_5",
    "outputId": "c0f8638c-9437-458e-be12-fb693bd42425"
   },
   "outputs": [
    {
     "name": "stdout",
     "output_type": "stream",
     "text": [
      "['shraddha', 'satara', 'jui', 90, True, 4.555]\n"
     ]
    }
   ],
   "source": [
    "#for remove item\n",
    "c.remove(88j)\n",
    "print(c)"
   ]
  },
  {
   "cell_type": "code",
   "execution_count": 19,
   "metadata": {
    "colab": {
     "base_uri": "https://localhost:8080/"
    },
    "id": "02-0nju0OhZ7",
    "outputId": "7345ee96-37ba-4a34-bfd9-843a82ad39dc"
   },
   "outputs": [
    {
     "name": "stdout",
     "output_type": "stream",
     "text": [
      "['shraddha', 'satara', 'jui', 90, True, 4.555]\n"
     ]
    }
   ],
   "source": [
    "#pop function is use for remove last element of list\n",
    "item.pop()\n",
    "print(c)\n"
   ]
  },
  {
   "cell_type": "code",
   "execution_count": 20,
   "metadata": {
    "colab": {
     "base_uri": "https://localhost:8080/"
    },
    "id": "V7PjeDrlPKvq",
    "outputId": "58c58f64-a3f7-49cb-a2b7-c592cc371326"
   },
   "outputs": [
    {
     "name": "stdout",
     "output_type": "stream",
     "text": [
      "['shraddha', 'satara', 'jui', True, 4.555]\n"
     ]
    }
   ],
   "source": [
    "c.pop(3)\n",
    "print(c)"
   ]
  },
  {
   "cell_type": "code",
   "execution_count": 21,
   "metadata": {
    "colab": {
     "base_uri": "https://localhost:8080/"
    },
    "id": "qfSUQJfVQFvX",
    "outputId": "7f14b1ec-1124-4961-8215-8d581b6949a3"
   },
   "outputs": [
    {
     "name": "stdout",
     "output_type": "stream",
     "text": [
      "[]\n"
     ]
    }
   ],
   "source": [
    "#clear\n",
    "c.clear()\n",
    "print(c)"
   ]
  },
  {
   "cell_type": "code",
   "execution_count": 22,
   "metadata": {
    "colab": {
     "base_uri": "https://localhost:8080/",
     "height": 159
    },
    "id": "NSPr5OjwQUYF",
    "outputId": "f51a42db-8ddc-46a9-c75d-110848917047"
   },
   "outputs": [
    {
     "ename": "NameError",
     "evalue": "name 'c' is not defined",
     "output_type": "error",
     "traceback": [
      "\u001b[0;31m---------------------------------------------------------------------------\u001b[0m",
      "\u001b[0;31mNameError\u001b[0m                                 Traceback (most recent call last)",
      "\u001b[0;32m<ipython-input-22-786e282091dd>\u001b[0m in \u001b[0;36m<cell line: 2>\u001b[0;34m()\u001b[0m\n\u001b[1;32m      1\u001b[0m \u001b[0;32mdel\u001b[0m \u001b[0mc\u001b[0m\u001b[0;34m\u001b[0m\u001b[0;34m\u001b[0m\u001b[0m\n\u001b[0;32m----> 2\u001b[0;31m \u001b[0mprint\u001b[0m\u001b[0;34m(\u001b[0m\u001b[0mc\u001b[0m\u001b[0;34m)\u001b[0m\u001b[0;34m\u001b[0m\u001b[0;34m\u001b[0m\u001b[0m\n\u001b[0m",
      "\u001b[0;31mNameError\u001b[0m: name 'c' is not defined"
     ]
    }
   ],
   "source": [
    "del c\n",
    "print(c)\n"
   ]
  },
  {
   "cell_type": "markdown",
   "metadata": {
    "id": "R4nfepJGQsrY"
   },
   "source": [
    "**Tuple**\n",
    "\n",
    "It is used to store multiple items in a single variable\n",
    "\n",
    "It is unchangable(Immutable),orderd and allows duplicate values\n",
    "\n",
    "It is declared using()\n",
    "\n",
    "\n"
   ]
  },
  {
   "cell_type": "code",
   "execution_count": 23,
   "metadata": {
    "colab": {
     "base_uri": "https://localhost:8080/"
    },
    "id": "Fb1kONjPQq3s",
    "outputId": "f75bd651-f243-4129-ec0b-138371717e18"
   },
   "outputs": [
    {
     "name": "stdout",
     "output_type": "stream",
     "text": [
      "('mansi', 55.44, False, 88j, 'Pune')\n"
     ]
    },
    {
     "data": {
      "text/plain": [
       "tuple"
      ]
     },
     "execution_count": 23,
     "metadata": {},
     "output_type": "execute_result"
    }
   ],
   "source": [
    "a=(\"mansi\",55.44,False,88j,\"Pune\")\n",
    "print(a)\n",
    "type(a)"
   ]
  },
  {
   "cell_type": "code",
   "execution_count": 24,
   "metadata": {
    "colab": {
     "base_uri": "https://localhost:8080/"
    },
    "id": "qJTrCDh6SUwE",
    "outputId": "8c38da26-2b32-45b1-96aa-43a17fa41a49"
   },
   "outputs": [
    {
     "name": "stdout",
     "output_type": "stream",
     "text": [
      "55.44\n"
     ]
    }
   ],
   "source": [
    "print(a[1])"
   ]
  },
  {
   "cell_type": "code",
   "execution_count": 26,
   "metadata": {
    "colab": {
     "base_uri": "https://localhost:8080/"
    },
    "id": "E6nM_o6QSc3X",
    "outputId": "dde9d32d-d28a-4968-a495-fe13decbc303"
   },
   "outputs": [
    {
     "name": "stdout",
     "output_type": "stream",
     "text": [
      "Pune\n"
     ]
    }
   ],
   "source": [
    "print(a[4])"
   ]
  },
  {
   "cell_type": "code",
   "execution_count": 28,
   "metadata": {
    "colab": {
     "base_uri": "https://localhost:8080/"
    },
    "id": "SiaxC6e3TlBE",
    "outputId": "6276ec8c-7340-420b-cf90-f50855cdd904"
   },
   "outputs": [
    {
     "name": "stdout",
     "output_type": "stream",
     "text": [
      "88j\n"
     ]
    }
   ],
   "source": [
    "print(a[-2])"
   ]
  },
  {
   "cell_type": "code",
   "execution_count": 30,
   "metadata": {
    "colab": {
     "base_uri": "https://localhost:8080/"
    },
    "id": "0str7YJFuYTM",
    "outputId": "512d2318-208a-40ba-b702-5a7c15d22fa7"
   },
   "outputs": [
    {
     "name": "stdout",
     "output_type": "stream",
     "text": [
      "mansi\n"
     ]
    }
   ],
   "source": [
    "print(a[-0])"
   ]
  },
  {
   "cell_type": "code",
   "execution_count": 31,
   "metadata": {
    "colab": {
     "base_uri": "https://localhost:8080/"
    },
    "id": "BOLHh1KnvKkE",
    "outputId": "880c164f-c780-4a05-b4bc-eeaf37929217"
   },
   "outputs": [
    {
     "name": "stdout",
     "output_type": "stream",
     "text": [
      "(False, 88j)\n"
     ]
    }
   ],
   "source": [
    "print(a[-3:-1])"
   ]
  },
  {
   "cell_type": "code",
   "execution_count": 43,
   "metadata": {
    "colab": {
     "base_uri": "https://localhost:8080/"
    },
    "id": "oXs23hY0ver2",
    "outputId": "c419d6b2-5615-4be8-f034-67b99479af47"
   },
   "outputs": [
    {
     "name": "stdout",
     "output_type": "stream",
     "text": [
      "(8j, 'java')\n"
     ]
    }
   ],
   "source": [
    "b=(\"abx\",99,5.7,8j,\"java\",\"pune\")\n",
    "print(b[-3:5])"
   ]
  }
 ],
 "metadata": {
  "colab": {
   "provenance": []
  },
  "kernelspec": {
   "display_name": "Python 3",
   "name": "python3"
  },
  "language_info": {
   "name": "python"
  }
 },
 "nbformat": 4,
 "nbformat_minor": 0
}
